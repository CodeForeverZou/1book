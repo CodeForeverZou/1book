{
  "nbformat": 4,
  "nbformat_minor": 0,
  "metadata": {
    "colab": {
      "name": "emb+RNN IMDB.ipynb",
      "provenance": [],
      "collapsed_sections": [],
      "toc_visible": true,
      "authorship_tag": "ABX9TyMxwYQdDKh2bCkzKO8CsGB3",
      "include_colab_link": true
    },
    "kernelspec": {
      "name": "python3",
      "display_name": "Python 3"
    },
    "accelerator": "GPU"
  },
  "cells": [
    {
      "cell_type": "markdown",
      "metadata": {
        "id": "view-in-github",
        "colab_type": "text"
      },
      "source": [
        "<a href=\"https://colab.research.google.com/github/CodeForeverZou/1book/blob/master/emb%2BRNN_IMDB.ipynb\" target=\"_parent\"><img src=\"https://colab.research.google.com/assets/colab-badge.svg\" alt=\"Open In Colab\"/></a>"
      ]
    },
    {
      "cell_type": "markdown",
      "metadata": {
        "id": "Nq59e6PFCVy1"
      },
      "source": [
        "# 挂载硬盘"
      ]
    },
    {
      "cell_type": "code",
      "metadata": {
        "colab": {
          "base_uri": "https://localhost:8080/"
        },
        "id": "r-mo1UTICbXN",
        "outputId": "e95fbf70-1e24-4098-8865-2dd7d1a56541"
      },
      "source": [
        "from google.colab import drive\n",
        "drive.mount('/content/drive')\n",
        "import os\n",
        "os.chdir('/content/drive/My Drive/Colab Notebooks/Model/emb_rnn_IMDB')\n",
        "!ls\n",
        "!pwd"
      ],
      "execution_count": null,
      "outputs": [
        {
          "output_type": "stream",
          "text": [
            "Mounted at /content/drive\n",
            "emb_flat.h5\t       emb_lstm_training_log.csv    emb_rnn_train_log_0505.csv\n",
            "emb_lstm.h5\t       emb_lstm_train_log_0415.csv  test.csv\n",
            "emb_lstm_IMDB_0415.h5  emb_rnn_IMDB_0505.h5\t    train_labels.csv\n",
            "/content/drive/My Drive/Colab Notebooks/Model/emb_rnn_IMDB\n"
          ],
          "name": "stdout"
        }
      ]
    },
    {
      "cell_type": "markdown",
      "metadata": {
        "id": "MTR3AHE3KZ7f"
      },
      "source": [
        "# 读取IMDB数据集，并转成文本\n",
        "（默认原本读取为向量）"
      ]
    },
    {
      "cell_type": "code",
      "metadata": {
        "id": "jF62uObsKnVR",
        "colab": {
          "base_uri": "https://localhost:8080/",
          "height": 210
        },
        "outputId": "c11da71d-432b-4221-c2d3-1c758e8017b6"
      },
      "source": [
        "import keras\n",
        "from keras.preprocessing import sequence\n",
        "imdb = keras.datasets.imdb\n",
        "#导入数据\n",
        "(train_data, train_labels), (test_data, test_labels) = imdb.load_data(num_words=20000)\n",
        "# (train_data, train_labels), (test_data, test_labels) = imdb.load_data(num_words=10000)\n",
        "\n",
        "'''====================================\n",
        "一个映射单词到整数索引的词典\n",
        "'''\n",
        "word_index = imdb.get_word_index()\n",
        "# 保留第一个索引\n",
        "word_index = {k:(v+3) for k,v in word_index.items()}\n",
        "word_index[\"<PAD>\"] = 0\n",
        "word_index[\"<START>\"] = 1\n",
        "word_index[\"<UNK>\"] = 2  # unknown\n",
        "word_index[\"<UNUSED>\"] = 3\n",
        "reverse_word_index = dict([(value, key) for (key, value) in word_index.items()])\n",
        "#先将TensorFlow中读取imdb数字列表转换成文本，因为Tokenizer处理文本数据\n",
        "def decode_review(text):\n",
        "    return ' '.join([reverse_word_index.get(i, '?') for i in text])\n",
        "\n",
        "'''===================================='''"
      ],
      "execution_count": null,
      "outputs": [
        {
          "output_type": "stream",
          "text": [
            "Downloading data from https://storage.googleapis.com/tensorflow/tf-keras-datasets/imdb.npz\n",
            "17465344/17464789 [==============================] - 0s 0us/step\n"
          ],
          "name": "stdout"
        },
        {
          "output_type": "stream",
          "text": [
            "<string>:6: VisibleDeprecationWarning: Creating an ndarray from ragged nested sequences (which is a list-or-tuple of lists-or-tuples-or ndarrays with different lengths or shapes) is deprecated. If you meant to do this, you must specify 'dtype=object' when creating the ndarray\n",
            "/usr/local/lib/python3.7/dist-packages/tensorflow/python/keras/datasets/imdb.py:159: VisibleDeprecationWarning: Creating an ndarray from ragged nested sequences (which is a list-or-tuple of lists-or-tuples-or ndarrays with different lengths or shapes) is deprecated. If you meant to do this, you must specify 'dtype=object' when creating the ndarray\n",
            "  x_train, y_train = np.array(xs[:idx]), np.array(labels[:idx])\n"
          ],
          "name": "stderr"
        },
        {
          "output_type": "stream",
          "text": [
            "Downloading data from https://storage.googleapis.com/tensorflow/tf-keras-datasets/imdb_word_index.json\n",
            "1646592/1641221 [==============================] - 0s 0us/step\n"
          ],
          "name": "stdout"
        },
        {
          "output_type": "stream",
          "text": [
            "/usr/local/lib/python3.7/dist-packages/tensorflow/python/keras/datasets/imdb.py:160: VisibleDeprecationWarning: Creating an ndarray from ragged nested sequences (which is a list-or-tuple of lists-or-tuples-or ndarrays with different lengths or shapes) is deprecated. If you meant to do this, you must specify 'dtype=object' when creating the ndarray\n",
            "  x_test, y_test = np.array(xs[idx:]), np.array(labels[idx:])\n"
          ],
          "name": "stderr"
        },
        {
          "output_type": "execute_result",
          "data": {
            "application/vnd.google.colaboratory.intrinsic+json": {
              "type": "string"
            },
            "text/plain": [
              "'===================================='"
            ]
          },
          "metadata": {
            "tags": []
          },
          "execution_count": 8
        }
      ]
    },
    {
      "cell_type": "code",
      "metadata": {
        "id": "mAx84e7lGWIX",
        "colab": {
          "base_uri": "https://localhost:8080/"
        },
        "outputId": "87394db0-33af-4d5f-df22-c4308588e074"
      },
      "source": [
        "train_len = len(train_data)\n",
        "print(train_len)\n",
        "train_text=[]\n",
        "for i in range(train_len):\n",
        "  train_text.append(decode_review(train_data[i]))\n",
        "\n",
        "from keras.preprocessing.text import Tokenizer\n",
        "\n",
        "#词库大小2000,Tokenizer处理文本数据\n",
        "token=Tokenizer(num_words=20000)\n",
        "# token=Tokenizer(num_words=10000)\n",
        "token.fit_on_texts(train_text)\n",
        "x_train_seq=token.texts_to_sequences(train_text)\n",
        "#x_test_seq=token.texts_to_sequences(test_data)\n",
        "#处理成，句长为100\n",
        "x = sequence.pad_sequences(x_train_seq,maxlen=200)\n",
        "#x_test=sequence.pad_sequences(x_test_seq,maxlen=100)"
      ],
      "execution_count": null,
      "outputs": [
        {
          "output_type": "stream",
          "text": [
            "25000\n"
          ],
          "name": "stdout"
        }
      ]
    },
    {
      "cell_type": "code",
      "metadata": {
        "id": "Rks4mFm6C7Uv"
      },
      "source": [
        "import csv\n",
        "# data = [    (\"Ken\", \"msfe\", 23),    (\"TeMe\", \"maee\", 29),    (\"Js\", \"fele\", 92)]\n",
        "with open('./test.csv', 'w', newline='') as t_file:\n",
        "  csv_writer = csv.writer(t_file)\n",
        "  for l in x:\n",
        "    csv_writer.writerow(l)"
      ],
      "execution_count": null,
      "outputs": []
    },
    {
      "cell_type": "code",
      "metadata": {
        "id": "qfCJqQS8KAhn"
      },
      "source": [
        "# print(train_labels[0])\n",
        "with open('./train_labels.csv', 'w', newline='') as t_file:\n",
        "  csv_writer = csv.writer(t_file)\n",
        "  csv_writer.writerow(train_labels)"
      ],
      "execution_count": null,
      "outputs": []
    },
    {
      "cell_type": "code",
      "metadata": {
        "colab": {
          "base_uri": "https://localhost:8080/"
        },
        "id": "h84-E1CKRjrs",
        "outputId": "e607e616-9f1b-45b6-8aa1-8cf4992c553b"
      },
      "source": [
        "test_text=[]\n",
        "for i in range(train_len):\n",
        "  test_text.append(decode_review(test_data[i]))\n",
        "\n",
        "x2_train_seq = token.texts_to_sequences(test_text)\n",
        "#x_test_seq=token.texts_to_sequences(test_data)\n",
        "#处理成，句长为100\n",
        "x2 = sequence.pad_sequences(x2_train_seq, maxlen=100)\n",
        "print(x2[0])"
      ],
      "execution_count": null,
      "outputs": [
        {
          "output_type": "stream",
          "text": [
            "[   0    0    0    0    0    0    0    0    0    0    0    0    0    0\n",
            "    0    0    0    0    0    0    0    0    0    0    0    0    0    0\n",
            "    0    0    0    0   29  589  201   12   30    4  716    8    8    1\n",
            "    1    3    2  359    5    2  176 5770  392  353    2  122    7 1033\n",
            " 1033 1033    8    8   11   91  123   88  486 7980   99   26 1670   12\n",
            "   30   21   25 7489   27  219  466    6  123   12  285  169    6  156\n",
            "   45    3   25  238   14  178    1   37   31   23 7980  449  201   12\n",
            "    4  716]\n"
          ],
          "name": "stdout"
        }
      ]
    },
    {
      "cell_type": "code",
      "metadata": {
        "id": "dfSbIiBRSfH9"
      },
      "source": [
        "print(test_data[0])"
      ],
      "execution_count": null,
      "outputs": []
    },
    {
      "cell_type": "code",
      "metadata": {
        "colab": {
          "base_uri": "https://localhost:8080/"
        },
        "id": "sRpOsVmf-r-x",
        "outputId": "010d5594-967b-40f8-b8f5-c1e49fee644c"
      },
      "source": [
        "print(x[0])\n",
        "print(decode_review(train_data[0]))"
      ],
      "execution_count": null,
      "outputs": [
        {
          "output_type": "stream",
          "text": [
            "[ 127   49   34  126   42   22 1262   32    4   20   10  181   27   73\n",
            "   52    3   12  420   14   93    1    6    2  110  107   13  241    2\n",
            "    1    5 1954    3  847   34   70   45  513  421   25  400  322   48\n",
            "    5    2    1  786   11  112   74    2  377   13  312   97   31   53\n",
            "   25  137    4  198   16    2  214   20   17  121  421   25  471    3\n",
            "  147   26   16   49   34   27  237   86   22  112    2  214   63   14\n",
            "   39 1380   74   10   14  265    3   14  120  102   31   13   14   18\n",
            "  209   31]\n",
            "<START> this film was just brilliant casting location scenery story direction everyone's really suited the part they played and you could just imagine being there robert <UNK> is an amazing actor and now the same being director <UNK> father came from the same scottish island as myself so i loved the fact there was a real connection with this film the witty remarks throughout the film were great it was just brilliant so much that i bought the film as soon as it was released for <UNK> and would recommend it to everyone to watch and the fly fishing was amazing really cried at the end it was so sad and you know what they say if you cry at a film it must have been good and this definitely was also <UNK> to the two little boy's that played the <UNK> of norman and paul they were just brilliant children are often left out of the <UNK> list i think because the stars that play them all grown up are such a big profile for the whole film but these children are amazing and should be praised for what they have done don't you think the whole story was so lovely because it was true and was someone's life after all that was shared with us all\n"
          ],
          "name": "stdout"
        }
      ]
    },
    {
      "cell_type": "markdown",
      "metadata": {
        "id": "zOWFsHLMWlXk"
      },
      "source": [
        "# 实验 My_SimpleRNN"
      ]
    },
    {
      "cell_type": "code",
      "metadata": {
        "id": "mQ8SuBOPOCAK"
      },
      "source": [
        "# 自定义RNN\n",
        "import tensorflow as tf\n",
        "import keras.backend as K\n",
        "tf.compat.v1.disable_eager_execution()\n",
        "class My_SimpleRNN(tf.keras.layers.Layer):\n",
        "  def __init__(self, units, **kwargs):\n",
        "    self.units=units\n",
        "    self.state_size=self.units\n",
        "    self.output_size=self.units\n",
        "    super(My_SimpleRNN, self).__init__(**kwargs)\n",
        "\n",
        "  def build(self, input_shape):\n",
        "    self.kernel=self.add_weight(name='kernel',shape=(input_shape[-1],self.units),initializer='glorot_uniform')\n",
        "    print('input_shape',input_shape[-1])\n",
        "    self.recurrent_kernel=self.add_weight(name='recurrent_kernel',shape=(self.units,self.units),initializer='orthogonal')\n",
        "    self.bias=self.add_weight(name='bias',shape=(self.units,),initializer='zeros')\n",
        "\n",
        "  def step_to(self, inputs ,states):\n",
        "    h=K.dot(states[0],self.recurrent_kernel)\n",
        "    print('h',h.shape)\n",
        "    print('inputs',inputs.shape)\n",
        "    print('k1',self.kernel.shape)\n",
        "    h=K.bias_add(h,self.bias)\n",
        "    outputs=K.relu(h+K.dot(inputs,self.kernel))\n",
        "    return outputs,[outputs]\n",
        "\n",
        "  def call(self, inputs):\n",
        "    init_states=[K.zeros((K.shape(inputs)[0],self.output_size))]\n",
        "    states=init_states\n",
        "    outputs=K.rnn(self.step_to, inputs, states)\n",
        "    #print(outputs.shape)\n",
        "    return outputs[0]\n",
        "\n",
        "  def get_config(self):\n",
        "    config = {\"units\":self.units}\n",
        "    base_config = super(My_SimpleRNN, self).get_config()\n",
        "    return dict(list(base_config.items()) + list(config.items()))\n"
      ],
      "execution_count": null,
      "outputs": []
    },
    {
      "cell_type": "code",
      "metadata": {
        "colab": {
          "base_uri": "https://localhost:8080/",
          "height": 1000
        },
        "id": "PvK3kuQahun8",
        "outputId": "4e0024a9-b079-4411-c45d-1f70e4fd4a89"
      },
      "source": [
        "# 定义模型\n",
        "model = keras.Sequential()\n",
        "model.add(keras.layers.Embedding(20000, 128))\n",
        "model.add(My_SimpleRNN(128))\n",
        "model.add(keras.layers.Dense(1, activation='sigmoid'))\n",
        "# model.add(keras.layers.Activation('sigmoid'))\n",
        "\n",
        "model.compile(optimizer = 'adam', loss = 'binary_crossentropy', metrics = ['accuracy'])\n",
        "# model.fit(x, train_labels[:1000], epochs = 3)\n",
        "model.summary()\n",
        "# history = model.fit(x, train_labels, epochs = 20, batch_size=512, validation_split=0.8)\n",
        "# print(x[1])\n",
        "history = model.fit(x[2000:], train_labels[2000:], epochs = 20, batch_size=128, validation_data=(x[:2000], train_labels[:2000]))\n",
        "\n",
        "# 绘图\n",
        "history.history.keys()\n",
        "acc = history.history['accuracy']\n",
        "loss = history.history['loss']\n",
        "val_acc = history.history['val_accuracy']\n",
        "val_loss = history.history['val_loss']\n",
        "epochs = range(1, len(acc) + 1)\n",
        "\n",
        "import numpy as np\n",
        "import matplotlib.pyplot as plt\n",
        "from scipy.interpolate import make_interp_spline\n",
        "x_new = np.linspace(min(epochs), max(epochs), 300)\n",
        "y_smooth = make_interp_spline(epochs, val_acc)(x_new)\n",
        "\n",
        "plt.plot(epochs, acc, 'bo', label = 'Train acc')\n",
        "plt.plot(x_new, y_smooth, 'b', label = 'Val acc')\n",
        "plt.xlabel('Epochs')\n",
        "plt.ylabel('Acc')\n",
        "\n",
        "plt.legend()\n",
        "plt.show()"
      ],
      "execution_count": null,
      "outputs": [
        {
          "output_type": "stream",
          "text": [
            "input_shape 128\n",
            "h (None, 128)\n",
            "inputs (None, 128)\n",
            "k1 (128, 128)\n",
            "h (None, 128)\n",
            "inputs (None, 128)\n",
            "k1 (128, 128)\n",
            "Model: \"sequential_4\"\n",
            "_________________________________________________________________\n",
            "Layer (type)                 Output Shape              Param #   \n",
            "=================================================================\n",
            "embedding_4 (Embedding)      (None, None, 128)         2560000   \n",
            "_________________________________________________________________\n",
            "my__simple_rnn (My_SimpleRNN (None, 128)               32896     \n",
            "_________________________________________________________________\n",
            "dense_2 (Dense)              (None, 1)                 129       \n",
            "=================================================================\n",
            "Total params: 2,593,025\n",
            "Trainable params: 2,593,025\n",
            "Non-trainable params: 0\n",
            "_________________________________________________________________\n",
            "Train on 23000 samples, validate on 2000 samples\n",
            "Epoch 1/20\n",
            "23000/23000 [==============================] - ETA: 0s - loss: 0.6204 - accuracy: 0.6521"
          ],
          "name": "stdout"
        },
        {
          "output_type": "stream",
          "text": [
            "/usr/local/lib/python3.7/dist-packages/tensorflow/python/keras/engine/training.py:2325: UserWarning: `Model.state_updates` will be removed in a future version. This property should not be used in TensorFlow 2.0, as `updates` are applied automatically.\n",
            "  warnings.warn('`Model.state_updates` will be removed in a future version. '\n"
          ],
          "name": "stderr"
        },
        {
          "output_type": "stream",
          "text": [
            "23000/23000 [==============================] - 25s 1ms/sample - loss: 0.6204 - accuracy: 0.6521 - val_loss: 0.4194 - val_accuracy: 0.7975\n",
            "Epoch 2/20\n",
            "23000/23000 [==============================] - 25s 1ms/sample - loss: 0.3646 - accuracy: 0.8424 - val_loss: 0.4485 - val_accuracy: 0.7980\n",
            "Epoch 3/20\n",
            "23000/23000 [==============================] - 25s 1ms/sample - loss: 0.3067 - accuracy: 0.8719 - val_loss: 0.4053 - val_accuracy: 0.8150\n",
            "Epoch 4/20\n",
            "23000/23000 [==============================] - 25s 1ms/sample - loss: 0.2369 - accuracy: 0.9070 - val_loss: 0.4756 - val_accuracy: 0.8255\n",
            "Epoch 5/20\n",
            "23000/23000 [==============================] - 25s 1ms/sample - loss: 0.2221 - accuracy: 0.9138 - val_loss: 0.4119 - val_accuracy: 0.8575\n",
            "Epoch 6/20\n",
            "23000/23000 [==============================] - 25s 1ms/sample - loss: 0.1460 - accuracy: 0.9455 - val_loss: 0.4532 - val_accuracy: 0.8165\n",
            "Epoch 7/20\n",
            "23000/23000 [==============================] - 25s 1ms/sample - loss: 0.1841 - accuracy: 0.9410 - val_loss: 0.4547 - val_accuracy: 0.8300\n",
            "Epoch 8/20\n",
            "23000/23000 [==============================] - 25s 1ms/sample - loss: 0.1124 - accuracy: 0.9589 - val_loss: 0.5109 - val_accuracy: 0.8215\n",
            "Epoch 9/20\n",
            "23000/23000 [==============================] - 25s 1ms/sample - loss: 0.1166 - accuracy: 0.9580 - val_loss: 0.5994 - val_accuracy: 0.7400\n",
            "Epoch 10/20\n",
            "23000/23000 [==============================] - 25s 1ms/sample - loss: 0.1114 - accuracy: 0.9601 - val_loss: 0.6382 - val_accuracy: 0.8325\n",
            "Epoch 11/20\n",
            "23000/23000 [==============================] - 25s 1ms/sample - loss: 0.0512 - accuracy: 0.9825 - val_loss: 0.6653 - val_accuracy: 0.8350\n",
            "Epoch 12/20\n",
            "23000/23000 [==============================] - 25s 1ms/sample - loss: 0.0260 - accuracy: 0.9928 - val_loss: 0.7262 - val_accuracy: 0.8330\n",
            "Epoch 13/20\n",
            "23000/23000 [==============================] - 26s 1ms/sample - loss: 0.0608 - accuracy: 0.9759 - val_loss: 0.7209 - val_accuracy: 0.7145\n",
            "Epoch 14/20\n",
            "23000/23000 [==============================] - 25s 1ms/sample - loss: 0.3211 - accuracy: 0.8651 - val_loss: 0.6351 - val_accuracy: 0.7150\n",
            "Epoch 15/20\n",
            "23000/23000 [==============================] - 25s 1ms/sample - loss: 0.1359 - accuracy: 0.9474 - val_loss: 0.6977 - val_accuracy: 0.7605\n",
            "Epoch 16/20\n",
            "23000/23000 [==============================] - 25s 1ms/sample - loss: 0.0636 - accuracy: 0.9774 - val_loss: 0.7534 - val_accuracy: 0.8200\n",
            "Epoch 17/20\n",
            "23000/23000 [==============================] - 24s 1ms/sample - loss: 0.0539 - accuracy: 0.9825 - val_loss: 0.8815 - val_accuracy: 0.8175\n",
            "Epoch 18/20\n",
            "23000/23000 [==============================] - 24s 1ms/sample - loss: 0.0385 - accuracy: 0.9876 - val_loss: 0.9620 - val_accuracy: 0.8195\n",
            "Epoch 19/20\n",
            "23000/23000 [==============================] - 24s 1ms/sample - loss: 0.0170 - accuracy: 0.9953 - val_loss: 0.9245 - val_accuracy: 0.8250\n",
            "Epoch 20/20\n",
            "23000/23000 [==============================] - 24s 1ms/sample - loss: 0.0153 - accuracy: 0.9957 - val_loss: 1.0215 - val_accuracy: 0.8365\n"
          ],
          "name": "stdout"
        },
        {
          "output_type": "display_data",
          "data": {
            "image/png": "[encoded data removed]",
            "text/plain": [
              "<Figure size 432x288 with 1 Axes>"
            ]
          },
          "metadata": {
            "tags": [],
            "needs_background": "light"
          }
        }
      ]
    },
    {
      "cell_type": "code",
      "metadata": {
        "colab": {
          "base_uri": "https://localhost:8080/",
          "height": 279
        },
        "id": "te_UdHKXkX7L",
        "outputId": "17cc5b9a-27e8-4638-bf5c-80e0184f6e8c"
      },
      "source": [
        "# up MySimpleRNN\n",
        "# down keras.RNN"
      ],
      "execution_count": null,
      "outputs": [
        {
          "output_type": "display_data",
          "data": {
            "image/png": "[encoded data removed]",
            "text/plain": [
              "<Figure size 432x288 with 1 Axes>"
            ]
          },
          "metadata": {
            "tags": [],
            "needs_background": "light"
          }
        }
      ]
    },
    {
      "cell_type": "code",
      "metadata": {
        "id": "NNazn96Nno9S"
      },
      "source": [
        "# 存储模型\n",
        "# tf.saved_model.save(model, \"./1\") emb_lstm_training_log\n",
        "os.chdir('/content/drive/My Drive/Colab Notebooks/Model/emb_rnn_IMDB')\n",
        "import time\n",
        "file_name = './emb_rnn_IMDB_' + time.strftime(\"%m%d\") + '.h5'\n",
        "model.save(file_name)\n",
        "# 保存训练的日志文件 history\n",
        "import pandas as pd\n",
        "his_name = './emb_rnn_train_log_' + time.strftime(\"%m%d\") + '.csv'\n",
        "pd.DataFrame(history.history).to_csv(his_name, index=False)"
      ],
      "execution_count": null,
      "outputs": []
    },
    {
      "cell_type": "code",
      "metadata": {
        "colab": {
          "base_uri": "https://localhost:8080/"
        },
        "id": "cCeFhIk3oSou",
        "outputId": "ff680ed6-642f-44fb-f859-454d827614b2"
      },
      "source": [
        "# 读取模型\n",
        "import keras\n",
        "import numpy as np\n",
        "\n",
        "_custom_objects = {\n",
        "    \"My_SimpleRNN\" :  My_SimpleRNN\n",
        "   #\"loss\" : Myloss\n",
        "}\n",
        "\n",
        "model = keras.models.load_model('emb_rnn_IMDB_0505.h5', custom_objects=_custom_objects)\n",
        "model.summary()"
      ],
      "execution_count": null,
      "outputs": [
        {
          "output_type": "stream",
          "text": [
            "input_shape 128\n",
            "h (None, 128)\n",
            "inputs (None, 128)\n",
            "k1 (128, 128)\n",
            "h (None, 128)\n",
            "inputs (None, 128)\n",
            "k1 (128, 128)\n",
            "Model: \"sequential_4\"\n",
            "_________________________________________________________________\n",
            "Layer (type)                 Output Shape              Param #   \n",
            "=================================================================\n",
            "embedding_4 (Embedding)      (None, None, 128)         2560000   \n",
            "_________________________________________________________________\n",
            "my__simple_rnn (My_SimpleRNN (None, 128)               32896     \n",
            "_________________________________________________________________\n",
            "dense_2 (Dense)              (None, 1)                 129       \n",
            "=================================================================\n",
            "Total params: 2,593,025\n",
            "Trainable params: 2,593,025\n",
            "Non-trainable params: 0\n",
            "_________________________________________________________________\n"
          ],
          "name": "stdout"
        }
      ]
    },
    {
      "cell_type": "code",
      "metadata": {
        "colab": {
          "base_uri": "https://localhost:8080/"
        },
        "id": "5vxTS0yyWlZi",
        "outputId": "3664b0cf-60b3-4157-dbdb-20aa4f0bdad7"
      },
      "source": [
        "emb = model.get_layer('embedding_4').get_weights()\n",
        "print('Emb:', emb[0].shape, len(emb[0]), len(emb[0][1]))\n",
        "\n",
        "wx, wh, b = model.get_layer('my__simple_rnn').get_weights()\n",
        "print('rnn:', wx.shape, wh.shape, b.shape)\n",
        "\n",
        "w2, b2 = model.get_layer('dense_2').get_weights()\n",
        "print(w2.shape, b2.shape)\n",
        "\n",
        "EXPAND=10000\n",
        "emb = (emb[0]*EXPAND).astype(np.int32)\n",
        "wx = (wx*EXPAND).astype(np.int32)\n",
        "wh = (wh*EXPAND).astype(np.int32)\n",
        "b = (b*EXPAND).astype(np.int32)\n",
        "w2 = (w2*EXPAND).astype(np.int32)\n",
        "b2 = (b2*EXPAND).astype(np.int32)"
      ],
      "execution_count": null,
      "outputs": [
        {
          "output_type": "stream",
          "text": [
            "Emb: (20000, 128) 20000 128\n",
            "rnn: (128, 128) (128, 128) (128,)\n",
            "(128, 1) (1,)\n"
          ],
          "name": "stdout"
        }
      ]
    },
    {
      "cell_type": "code",
      "metadata": {
        "id": "owHMVS07W94Z"
      },
      "source": [
        "def embed(x):\n",
        "  emb_out = []\n",
        "  for i in x:\n",
        "    emb_out.append(emb[0][i])\n",
        "    # emb_out.append(emb[0][i])\n",
        "  emb_out = np.array(emb_out)\n",
        "  return (emb_out)\n",
        "\n",
        "def embed_Int(x):\n",
        "  emb_out = []\n",
        "  for i in x:\n",
        "    emb_out.append(emb[i])\n",
        "  emb_out = np.array(emb_out)\n",
        "  return (emb_out)\n",
        "\n",
        "# import tensorflow as tf\n",
        "# from tensorflow.python.ops import nn\n",
        "# from tensorflow.python.keras import backend as K\n",
        "\n",
        "def rnn(a, b, c, x, hidden_num):\n",
        "  h0=np.zeros((1, hidden_num))\n",
        "  for i in x:\n",
        "    h0=np.dot(h0,b)\n",
        "    h0=h0+c\n",
        "    # if(count_i==count_j):print(h0,'\\n')\n",
        "    h0=h0+np.dot(i,a)\n",
        "    # if(count_i==count_j):print(h0,'\\n')#print(i,a[0])\n",
        "    h0=np.maximum(h0,0)\n",
        "    # if(count_i==count_j):print(h0,'\\n')\n",
        "  return h0\n",
        "\n",
        "def int_dot(a,b):\n",
        "  h=(np.dot(a,b)/EXPAND).astype(np.int32)\n",
        "  return h\n",
        "\n",
        "def rnn_Int(a, b, c, x, hidden_num):\n",
        "  h0=np.zeros((1, hidden_num)).astype(np.int32)\n",
        "  for i in x:\n",
        "    h0=int_dot(h0,b)\n",
        "    #if(count_i==count_j):print(h0,'\\n')\n",
        "    h0=h0+c\n",
        "    #if(count_i==count_j):print(h0,'\\n')\n",
        "    h0=h0+int_dot(i,a)\n",
        "    #if(count_i==count_j):print(h0,'\\n')#print(i,a[0])\n",
        "    h0=np.maximum(h0,0)\n",
        "    #if(count_i==count_j):print(h0,'\\n')\n",
        "  return h0"
      ],
      "execution_count": null,
      "outputs": []
    },
    {
      "cell_type": "code",
      "metadata": {
        "colab": {
          "base_uri": "https://localhost:8080/"
        },
        "id": "p9c8LpCFXXPZ",
        "outputId": "81cbf6c6-6d6d-4f73-f576-87226e2b7244"
      },
      "source": [
        "embL = model.get_layer('embedding_4')\n",
        "embL_Out = embL(x[:1])\n",
        "print(embL_Out.shape, embL_Out[0][:2], embL_Out[0][-2:])\n",
        "\n",
        "lstmL = model.get_layer('my__simple_rnn')\n",
        "lstmL_Out = lstmL(embL_Out)\n",
        "print(lstmL_Out.shape, lstmL_Out[0][:2], lstmL_Out[0][-2:])\n",
        "\n",
        "denseL = model.get_layer('dense_2')\n",
        "denseL_Out = denseL(lstmL_Out)\n",
        "print(denseL_Out)"
      ],
      "execution_count": null,
      "outputs": [
        {
          "output_type": "stream",
          "text": [
            "(1, 200, 128) Tensor(\"strided_slice_20:0\", shape=(2, 128), dtype=float32) Tensor(\"strided_slice_22:0\", shape=(2, 128), dtype=float32)\n",
            "h (1, 128)\n",
            "inputs (1, 128)\n",
            "k1 (128, 128)\n",
            "h (1, 128)\n",
            "inputs (1, 128)\n",
            "k1 (128, 128)\n",
            "(1, 128) Tensor(\"strided_slice_24:0\", shape=(2,), dtype=float32) Tensor(\"strided_slice_26:0\", shape=(2,), dtype=float32)\n",
            "Tensor(\"dense_2_3/Sigmoid:0\", shape=(1, 1), dtype=float32)\n"
          ],
          "name": "stdout"
        }
      ]
    },
    {
      "cell_type": "code",
      "metadata": {
        "colab": {
          "base_uri": "https://localhost:8080/"
        },
        "id": "YdwxjYIJaPLD",
        "outputId": "2be4d3d7-a92e-4c53-a03c-d077c8abb564"
      },
      "source": [
        "len_train = 1\n",
        "correct_cnt = 0\n",
        "\n",
        "for i in range(len_train):\n",
        "  # emb_out = embed(x[i])\n",
        "  # rnn_out = rnn(wx, wh, b, emb_out, 128)\n",
        "  # dense2_out = np.dot(rnn_out, w2) + b2\n",
        "  emb_out = embed_Int(x[i])\n",
        "  rnn_out = rnn_Int(wx, wh, b, emb_out, 128)\n",
        "  dense2_out = int_dot(rnn_out, w2) + b2\n",
        "  print(emb_out)\n",
        "  print(rnn_out)\n",
        "  print(dense2_out)\n",
        "  if i % 100 == 0: print(i)\n",
        "  if (train_labels[i] == 1 and dense2_out > 0) or (train_labels[i] == 0 and dense2_out < 0): correct_cnt += 1\n",
        "  # print(train_labels[i], 1 if dense2_out > 0 else 0, dense2_out)\n",
        "\n",
        "print(correct_cnt, correct_cnt/len_train)"
      ],
      "execution_count": null,
      "outputs": [
        {
          "output_type": "stream",
          "text": [
            "[[-432  225  247 ...  187 -861 -293]\n",
            " [-334  356  598 ...   70  471 -323]\n",
            " [  36 -368 -859 ...  668    5  -50]\n",
            " ...\n",
            " [-120 -295 -332 ...  -62  -90 -330]\n",
            " [ 375 -623 -577 ...  121  283 -448]\n",
            " [-364 -287 -295 ... -186   52  287]]\n",
            "[[   0    0 3264    0 2126    0 5169 6925 1091    0    0 1589    0    0\n",
            "     0    0 2704 3234  778 1280    0    0 5037 1918    0   39    0    0\n",
            "     0  646    0    0    0    0    0    0    0 2172    0  261    0 4074\n",
            "     0    0    0 3780    0    0    0 3651    0    0    0    0    0    0\n",
            "  1085    0    0  312    0    0    0    0  610    0    0    0 1120    0\n",
            "  1061  548    0 1756 2622    0    0    0    0    0    0    0    0    0\n",
            "   835    0    0    0    0 1097    0    0    0 1475    0    0    0    0\n",
            "     0    0    0    0    0    0  747 1139    0    0    0    0    0    0\n",
            "     0    0    0  483  438    0    0  249 1410  388    0    0  260  450\n",
            "     0    0]]\n",
            "[[21346]]\n",
            "0\n",
            "1 1.0\n"
          ],
          "name": "stdout"
        }
      ]
    },
    {
      "cell_type": "code",
      "metadata": {
        "colab": {
          "base_uri": "https://localhost:8080/"
        },
        "id": "w5AhZmuDaCOb",
        "outputId": "5fa9ff50-19a7-431e-edd7-bbb4b6fa59d0"
      },
      "source": [
        "len_train = 1000\n",
        "correct_cnt = 0\n",
        "\n",
        "for i in range(len_train):\n",
        "  emb_out = embed(x[i])\n",
        "  # lstm_out = my_lstm(emb_out, 128, wx, wh, b)\n",
        "  rnn_out = rnn(wx, wh, b, emb_out, 128)\n",
        "  dense2_out = np.dot(rnn_out, w2) + b2\n",
        "  # dense2_out = int_dot(lstm_out[-1], w2) + b2\n",
        "  # print(emb_out)\n",
        "  # print(rnn_out)\n",
        "  # print(dense2_out)\n",
        "  if i % 100 == 0: print(i)\n",
        "  if (train_labels[i] == 1 and dense2_out > 0) or (train_labels[i] == 0 and dense2_out < 0): correct_cnt += 1\n",
        "  # print(train_labels[i], 1 if dense2_out > 0 else 0, dense2_out)\n",
        "\n",
        "print(correct_cnt, correct_cnt/len_train)"
      ],
      "execution_count": null,
      "outputs": [
        {
          "output_type": "stream",
          "text": [
            "0\n",
            "100\n",
            "200\n",
            "300\n",
            "400\n",
            "500\n",
            "600\n",
            "700\n",
            "800\n",
            "900\n",
            "842 0.842\n"
          ],
          "name": "stdout"
        }
      ]
    },
    {
      "cell_type": "code",
      "metadata": {
        "colab": {
          "base_uri": "https://localhost:8080/"
        },
        "id": "QhYZ_BYDa2p0",
        "outputId": "5c7e7eab-427f-40b9-8c0a-f0ee35c41a94"
      },
      "source": [
        "len_train = 1000\n",
        "correct_cnt = 0\n",
        "\n",
        "for j in range(len_train):\n",
        "  i = j + 2000\n",
        "  emb_out = embed_Int(x[i])\n",
        "  rnn_out = rnn_Int(wx, wh, b, emb_out, 128)\n",
        "  dense2_out = int_dot(rnn_out, w2) + b2\n",
        "  # print(emb_out)\n",
        "  # print(rnn_out)\n",
        "  # print(dense2_out)\n",
        "  if i % 100 == 0: print(i)\n",
        "  if (train_labels[i] == 1 and dense2_out > 0) or (train_labels[i] == 0 and dense2_out < 0): correct_cnt += 1\n",
        "  # print(train_labels[i], 1 if dense2_out > 0 else 0, dense2_out)\n",
        "\n",
        "print(correct_cnt, correct_cnt/len_train)"
      ],
      "execution_count": null,
      "outputs": [
        {
          "output_type": "stream",
          "text": [
            "2000\n",
            "2100\n",
            "2200\n",
            "2300\n",
            "2400\n",
            "2500\n",
            "2600\n",
            "2700\n",
            "2800\n",
            "2900\n",
            "937 0.937\n"
          ],
          "name": "stdout"
        }
      ]
    }
  ]
}